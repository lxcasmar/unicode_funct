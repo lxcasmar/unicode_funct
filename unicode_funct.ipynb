{
 "cells": [
  {
   "cell_type": "code",
   "execution_count": null,
   "metadata": {},
   "outputs": [],
   "source": [
    "prompt_text = \"Please enter any string\"      \n",
    "prompt_int = \"Enter the character number\"     \n",
    "range_error=\"please enter a number between 1 and the length of your word, inclusive\"\n",
    "                                #messages used in the code for prompts and errors\n",
    "    \n",
    "in_string = input(prompt_text)\n",
    "in_int = input(prompt_int)\n",
    "                                #takes user string and int input\n",
    "def unicode_funct(word,n):      #function that converts the nth word of a string into its ASCII value\n",
    "    result=\"\"                   #if the user enters the input 'ALL' as the nth word, the function will\n",
    "    count=0                     # return the ASCII values of every character.\n",
    "    if n ==\"ALL\":\n",
    "        while count<len(word):\n",
    "            result=result+ str(ord(word[count]))+\" \"\n",
    "            count+=1\n",
    "        return result\n",
    "    elif int(n)<1 or int(n)>len(word): #returns an error if the int input is larger than the legnth of the\n",
    "        result=range_error             # of the word or less than zero\n",
    "        return result\n",
    "    else:                              \n",
    "        n= int(n)\n",
    "        result = str(ord(word[n-1]))\n",
    "        return result\n",
    "\n",
    "final_string = unicode_funct(in_string,in_int)\n",
    "if in_int==\"ALL\":\n",
    "    print(\"The entire string in ASCII is \"+final_string)\n",
    "elif int(in_int)<1 or int(in_int)>len(in_string):\n",
    "    print(range_error)\n",
    "else:\n",
    "    print(\"the \"+in_int+\"th character in \"+in_string+\" is: \"+final_string)\n"
   ]
  }
 ],
 "metadata": {
  "kernelspec": {
   "display_name": "Python 3",
   "language": "python",
   "name": "python3"
  },
  "language_info": {
   "codemirror_mode": {
    "name": "ipython",
    "version": 3
   },
   "file_extension": ".py",
   "mimetype": "text/x-python",
   "name": "python",
   "nbconvert_exporter": "python",
   "pygments_lexer": "ipython3",
   "version": "3.8.3"
  }
 },
 "nbformat": 4,
 "nbformat_minor": 4
}
