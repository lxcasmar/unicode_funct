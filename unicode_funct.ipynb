{
 "cells": [
  {
   "cell_type": "code",
   "execution_count": null,
   "metadata": {},
   "outputs": [],
   "source": [
    "prompt_text = \"Please enter any string\"      \n",
    "prompt_int = \"Enter the character number\"     \n",
    "range_error=\"please enter a number between 1 and the length of your word, inclusive\"\n",
    "                                #messages used in the code for prompts and errors\n",
    "    \n",
    "in_string = input(prompt_text)\n",
    "in_int = input(prompt_int)\n",
    "                                #takes user string and int input\n",
    "def unicode_funct(word,n):      #function that converts the nth word of a string into its ASCII value\n",
    "    temp=\"\"\n",
    "    result=\"\"                   #if the user enters the input 'ALL' as the nth word, the function will\n",
    "    count=0                     # return the ASCII values of every character.\n",
    "    if n ==\"ALL\":\n",
    "        while count<len(word):\n",
    "            temp=temp+ str(ord(word[count]))+\" \"\n",
    "            count+=1\n",
    "        result = \"The entire string in ASCII is \"+temp\n",
    "        return result\n",
    "    elif int(n)<1 or int(n)>len(word): #returns an error if the int input is larger than the legnth of the\n",
    "        result=range_error             # of the word or less than zero\n",
    "        return result\n",
    "    else:                              #transforms the character at index n-1 of word into its ASCII value\n",
    "        n= int(n)                      # and returns it\n",
    "        temp = str(ord(word[n-1]))\n",
    "        result=\"the \"+str(n)+\"th character in ASCII in \"+word+ \" is: \" + str(ord(word[n-1]))\n",
    "        return result\n",
    "\n",
    "print(unicode_funct(in_string,in_int)) #executes function\n"
   ]
  }
 ],
 "metadata": {
  "kernelspec": {
   "display_name": "Python 3",
   "language": "python",
   "name": "python3"
  },
  "language_info": {
   "codemirror_mode": {
    "name": "ipython",
    "version": 3
   },
   "file_extension": ".py",
   "mimetype": "text/x-python",
   "name": "python",
   "nbconvert_exporter": "python",
   "pygments_lexer": "ipython3",
   "version": "3.8.3"
  }
 },
 "nbformat": 4,
 "nbformat_minor": 4
}
