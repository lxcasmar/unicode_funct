{
 "cells": [
  {
   "cell_type": "code",
   "execution_count": 16,
   "metadata": {},
   "outputs": [
    {
     "name": "stdin",
     "output_type": "stream",
     "text": [
      "Please enter any string leo\n",
      "Enter the character number xd\n"
     ]
    },
    {
     "ename": "ValueError",
     "evalue": "invalid literal for int() with base 10: 'xd'",
     "output_type": "error",
     "traceback": [
      "\u001b[0;31m---------------------------------------------------------------------------\u001b[0m",
      "\u001b[0;31mValueError\u001b[0m                                Traceback (most recent call last)",
      "\u001b[0;32m<ipython-input-16-20d3799c11c8>\u001b[0m in \u001b[0;36m<module>\u001b[0;34m\u001b[0m\n\u001b[1;32m     23\u001b[0m         \u001b[0;32mreturn\u001b[0m \u001b[0mresult\u001b[0m\u001b[0;34m\u001b[0m\u001b[0;34m\u001b[0m\u001b[0m\n\u001b[1;32m     24\u001b[0m \u001b[0;34m\u001b[0m\u001b[0m\n\u001b[0;32m---> 25\u001b[0;31m \u001b[0mfinal_string\u001b[0m \u001b[0;34m=\u001b[0m \u001b[0municode_funct\u001b[0m\u001b[0;34m(\u001b[0m\u001b[0min_string\u001b[0m\u001b[0;34m,\u001b[0m\u001b[0min_int\u001b[0m\u001b[0;34m)\u001b[0m\u001b[0;34m\u001b[0m\u001b[0;34m\u001b[0m\u001b[0m\n\u001b[0m\u001b[1;32m     26\u001b[0m \u001b[0;32mif\u001b[0m \u001b[0min_int\u001b[0m\u001b[0;34m==\u001b[0m\u001b[0;34m\"ALL\"\u001b[0m\u001b[0;34m:\u001b[0m\u001b[0;34m\u001b[0m\u001b[0;34m\u001b[0m\u001b[0m\n\u001b[1;32m     27\u001b[0m     \u001b[0mprint\u001b[0m\u001b[0;34m(\u001b[0m\u001b[0;34m\"The entire string in ASCII is \"\u001b[0m\u001b[0;34m+\u001b[0m\u001b[0mfinal_string\u001b[0m\u001b[0;34m)\u001b[0m\u001b[0;34m\u001b[0m\u001b[0;34m\u001b[0m\u001b[0m\n",
      "\u001b[0;32m<ipython-input-16-20d3799c11c8>\u001b[0m in \u001b[0;36municode_funct\u001b[0;34m(word, n)\u001b[0m\n\u001b[1;32m     15\u001b[0m             \u001b[0mcount\u001b[0m\u001b[0;34m+=\u001b[0m\u001b[0;36m1\u001b[0m\u001b[0;34m\u001b[0m\u001b[0;34m\u001b[0m\u001b[0m\n\u001b[1;32m     16\u001b[0m         \u001b[0;32mreturn\u001b[0m \u001b[0mresult\u001b[0m\u001b[0;34m\u001b[0m\u001b[0;34m\u001b[0m\u001b[0m\n\u001b[0;32m---> 17\u001b[0;31m     \u001b[0;32melif\u001b[0m \u001b[0mint\u001b[0m\u001b[0;34m(\u001b[0m\u001b[0mn\u001b[0m\u001b[0;34m)\u001b[0m\u001b[0;34m<\u001b[0m\u001b[0;36m1\u001b[0m \u001b[0;32mor\u001b[0m \u001b[0mint\u001b[0m\u001b[0;34m(\u001b[0m\u001b[0mn\u001b[0m\u001b[0;34m)\u001b[0m\u001b[0;34m>\u001b[0m\u001b[0mlen\u001b[0m\u001b[0;34m(\u001b[0m\u001b[0mword\u001b[0m\u001b[0;34m)\u001b[0m\u001b[0;34m:\u001b[0m \u001b[0;31m#returns an error if the int input is larger than the legnth of the\u001b[0m\u001b[0;34m\u001b[0m\u001b[0;34m\u001b[0m\u001b[0m\n\u001b[0m\u001b[1;32m     18\u001b[0m         \u001b[0mresult\u001b[0m\u001b[0;34m=\u001b[0m\u001b[0mrange_error\u001b[0m             \u001b[0;31m# of the word or less than zero\u001b[0m\u001b[0;34m\u001b[0m\u001b[0;34m\u001b[0m\u001b[0m\n\u001b[1;32m     19\u001b[0m         \u001b[0;32mreturn\u001b[0m \u001b[0mresult\u001b[0m\u001b[0;34m\u001b[0m\u001b[0;34m\u001b[0m\u001b[0m\n",
      "\u001b[0;31mValueError\u001b[0m: invalid literal for int() with base 10: 'xd'"
     ]
    }
   ],
   "source": [
    "prompt_text = \"Please enter any string\"      \n",
    "prompt_int = \"Enter the character number\"     \n",
    "range_error=\"please enter a number between 1 and the length of your word, inclusive\"\n",
    "                                #messages used in the code for prompts and errors\n",
    "    \n",
    "in_string = input(prompt_text)\n",
    "in_int = input(prompt_int)\n",
    "                                #takes user string and int input\n",
    "def unicode_funct(word,n):      #function that converts the nth word of a string into its ASCII value\n",
    "    result=\"\"                   #if the user enters the input 'ALL' as the nth word, the function will\n",
    "    count=0                     # return the ASCII values of every character.\n",
    "    if n ==\"ALL\":\n",
    "        while count<len(word):\n",
    "            result=result+ str(ord(word[count]))+\" \"\n",
    "            count+=1\n",
    "        return result\n",
    "    elif int(n)<1 or int(n)>len(word): #returns an error if the int input is larger than the legnth of the\n",
    "        result=range_error             # of the word or less than zero\n",
    "        return result\n",
    "    else:                              \n",
    "        n= int(n)\n",
    "        result = str(ord(word[n-1]))\n",
    "        return result\n",
    "\n",
    "final_string = unicode_funct(in_string,in_int)\n",
    "if in_int==\"ALL\":\n",
    "    print(\"The entire string in ASCII is \"+final_string)\n",
    "elif int(in_int)<1 or int(in_int)>len(in_string):\n",
    "    print(range_error)\n",
    "else:\n",
    "    print(\"the \"+in_int+\"th character in \"+in_string+\" is: \"+final_string)\n"
   ]
  },
  {
   "cell_type": "code",
   "execution_count": null,
   "metadata": {},
   "outputs": [],
   "source": []
  }
 ],
 "metadata": {
  "kernelspec": {
   "display_name": "Python 3",
   "language": "python",
   "name": "python3"
  },
  "language_info": {
   "codemirror_mode": {
    "name": "ipython",
    "version": 3
   },
   "file_extension": ".py",
   "mimetype": "text/x-python",
   "name": "python",
   "nbconvert_exporter": "python",
   "pygments_lexer": "ipython3",
   "version": "3.8.3"
  }
 },
 "nbformat": 4,
 "nbformat_minor": 4
}
